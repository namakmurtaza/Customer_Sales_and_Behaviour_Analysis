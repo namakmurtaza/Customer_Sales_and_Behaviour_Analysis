{
  "nbformat": 4,
  "nbformat_minor": 0,
  "metadata": {
    "colab": {
      "private_outputs": true,
      "provenance": [],
      "authorship_tag": "ABX9TyNtlTb72DXT6T3DUa/wZF+M",
      "include_colab_link": true
    },
    "kernelspec": {
      "name": "python3",
      "display_name": "Python 3"
    },
    "language_info": {
      "name": "python"
    }
  },
  "cells": [
    {
      "cell_type": "markdown",
      "metadata": {
        "id": "view-in-github",
        "colab_type": "text"
      },
      "source": [
        "<a href=\"https://colab.research.google.com/github/namakmurtaza/Customer_Sales_and_Behaviour_Analysis/blob/main/Customer_Sales_and_behaviour_analysis.ipynb\" target=\"_parent\"><img src=\"https://colab.research.google.com/assets/colab-badge.svg\" alt=\"Open In Colab\"/></a>"
      ]
    },
    {
      "cell_type": "code",
      "execution_count": null,
      "metadata": {
        "id": "gftYqDd8IwYz"
      },
      "outputs": [],
      "source": [
        "import numpy as np\n",
        "import pandas as pd\n",
        "import matplotlib.pyplot as plt\n",
        "%matplotlib inline\n",
        "import seaborn as sns"
      ]
    },
    {
      "cell_type": "code",
      "source": [
        "df=pd.read_csv('/content/Amazon Sale Report.csv',encoding= 'unicode_escape')"
      ],
      "metadata": {
        "id": "btnZks3nJZj3"
      },
      "execution_count": null,
      "outputs": []
    },
    {
      "cell_type": "code",
      "source": [
        "print(\"Retail Sales Dataset Overview:\")\n",
        "df.head()"
      ],
      "metadata": {
        "id": "d8WkvR3gJitB"
      },
      "execution_count": null,
      "outputs": []
    },
    {
      "cell_type": "code",
      "source": [
        "df.shape"
      ],
      "metadata": {
        "id": "ji0s_IeHJxM3"
      },
      "execution_count": null,
      "outputs": []
    },
    {
      "cell_type": "code",
      "source": [
        "df.tail()"
      ],
      "metadata": {
        "id": "y5UpaqA0J3el"
      },
      "execution_count": null,
      "outputs": []
    },
    {
      "cell_type": "code",
      "source": [
        "df.info()"
      ],
      "metadata": {
        "id": "oYe7oYbcJ8s9"
      },
      "execution_count": null,
      "outputs": []
    },
    {
      "cell_type": "code",
      "source": [
        "df['Date'] = pd.to_datetime(df['Date'], format='%m-%d-%y', errors='coerce')"
      ],
      "metadata": {
        "id": "s3fcNUGwXDUJ"
      },
      "execution_count": null,
      "outputs": []
    },
    {
      "cell_type": "code",
      "source": [
        "df_cleaned = df.dropna(subset=['Date'])"
      ],
      "metadata": {
        "id": "xj16bdahXFj0"
      },
      "execution_count": null,
      "outputs": []
    },
    {
      "cell_type": "code",
      "source": [
        "pd.isnull(df)"
      ],
      "metadata": {
        "id": "A4LsqGMYKC_K"
      },
      "execution_count": null,
      "outputs": []
    },
    {
      "cell_type": "code",
      "source": [
        "pd.isnull(df).sum()"
      ],
      "metadata": {
        "id": "PivKnvYFKH97"
      },
      "execution_count": null,
      "outputs": []
    },
    {
      "cell_type": "code",
      "source": [
        "#drop unrelated/blank columns\n",
        "df.drop(['New','PendingS'], axis=1, inplace=True)"
      ],
      "metadata": {
        "id": "D9eHxiqqKS-g"
      },
      "execution_count": null,
      "outputs": []
    },
    {
      "cell_type": "code",
      "source": [
        "df.info()"
      ],
      "metadata": {
        "id": "B1wRkYvYK6gg"
      },
      "execution_count": null,
      "outputs": []
    },
    {
      "cell_type": "code",
      "source": [
        "pd.isnull(df).sum()"
      ],
      "metadata": {
        "id": "i8xDkpznLC-O"
      },
      "execution_count": null,
      "outputs": []
    },
    {
      "cell_type": "code",
      "source": [
        "df.shape"
      ],
      "metadata": {
        "id": "HfPHkJihL7og"
      },
      "execution_count": null,
      "outputs": []
    },
    {
      "cell_type": "code",
      "source": [
        "df.dropna(inplace=True) #drop null values"
      ],
      "metadata": {
        "id": "vmxcBmi8TJUk"
      },
      "execution_count": null,
      "outputs": []
    },
    {
      "cell_type": "code",
      "source": [
        "df.shape"
      ],
      "metadata": {
        "id": "7-_7_FQETVBP"
      },
      "execution_count": null,
      "outputs": []
    },
    {
      "cell_type": "code",
      "source": [
        "df.columns"
      ],
      "metadata": {
        "id": "NnAVCXuzThbB"
      },
      "execution_count": null,
      "outputs": []
    },
    {
      "cell_type": "code",
      "source": [
        "#change data types\n",
        "df['ship-postal-code']=df['ship-postal-code'].astype('int')"
      ],
      "metadata": {
        "id": "jVMVr0vRTnc5"
      },
      "execution_count": null,
      "outputs": []
    },
    {
      "cell_type": "code",
      "source": [
        "df['ship-postal-code'].dtype"
      ],
      "metadata": {
        "id": "Q9WA_7fvUUcU"
      },
      "execution_count": null,
      "outputs": []
    },
    {
      "cell_type": "code",
      "source": [
        "df['Date']=pd.to_datetime (df['Date'])"
      ],
      "metadata": {
        "id": "ZD1MrawpWD-D"
      },
      "execution_count": null,
      "outputs": []
    },
    {
      "cell_type": "code",
      "source": [
        "df.info()"
      ],
      "metadata": {
        "id": "5Kxd3eQonTab"
      },
      "execution_count": null,
      "outputs": []
    },
    {
      "cell_type": "code",
      "source": [
        "print(\"Retail Sales Dataset Summary Statistics:\")\n",
        "df.describe()"
      ],
      "metadata": {
        "id": "A5k54ynMbPg5"
      },
      "execution_count": null,
      "outputs": []
    },
    {
      "cell_type": "code",
      "source": [
        "df.describe(include='object')"
      ],
      "metadata": {
        "id": "Ckv08AGrcAfM"
      },
      "execution_count": null,
      "outputs": []
    },
    {
      "cell_type": "code",
      "source": [
        "df[['Qty','Amount']].describe()"
      ],
      "metadata": {
        "id": "fJrR5M5TcP5s"
      },
      "execution_count": null,
      "outputs": []
    },
    {
      "cell_type": "markdown",
      "source": [
        "**EDA**"
      ],
      "metadata": {
        "id": "3NML8XD1cuVB"
      }
    },
    {
      "cell_type": "code",
      "source": [
        "df.columns"
      ],
      "metadata": {
        "id": "AWta6hvmdfA6"
      },
      "execution_count": null,
      "outputs": []
    },
    {
      "cell_type": "markdown",
      "source": [
        "# **Trend Analysis**"
      ],
      "metadata": {
        "id": "OwM-QhCgXOrR"
      }
    },
    {
      "cell_type": "code",
      "source": [
        "sales_trend = df_cleaned.groupby('Date')['Amount'].sum()\n",
        "# Plot sales trend over time\n",
        "plt.figure(figsize=(12, 6))\n",
        "plt.plot(sales_trend.index, sales_trend.values, marker='o', linestyle='-', color='r', label='Sales Amount')\n",
        "plt.xlabel('Date')\n",
        "plt.ylabel('Total Sales Amount')\n",
        "plt.title('Sales Trend Over Time')\n",
        "plt.xticks(rotation=45)\n",
        "plt.legend()\n",
        "plt.grid(True)\n",
        "plt.show()"
      ],
      "metadata": {
        "id": "ci4Wp7v6XWf0"
      },
      "execution_count": null,
      "outputs": []
    },
    {
      "cell_type": "markdown",
      "source": [
        "# Correlation"
      ],
      "metadata": {
        "id": "fFX_UEXrYwic"
      }
    },
    {
      "cell_type": "code",
      "source": [
        "numerical_df = df.select_dtypes(include=['number'])\n",
        "\n",
        "# Compute correlation matrix\n",
        "correlation_matrix = numerical_df.corr()\n",
        "\n",
        "# Plot the heatmap\n",
        "plt.figure(figsize=(10, 8))\n",
        "sns.heatmap(correlation_matrix, annot=True, cmap='coolwarm', fmt='.2f', linewidths=0.5)\n",
        "\n",
        "# Title\n",
        "plt.title(\"Amazon Sales Report - Correlation Heatmap\")\n",
        "\n",
        "# Show plot\n",
        "plt.show()\n"
      ],
      "metadata": {
        "id": "QFr_B36GYy1p"
      },
      "execution_count": null,
      "outputs": []
    },
    {
      "cell_type": "markdown",
      "source": [
        "## **Anamoly Detection**"
      ],
      "metadata": {
        "id": "4Lh_UZfgZR-H"
      }
    },
    {
      "cell_type": "code",
      "source": [
        "plt.figure(figsize=(8, 5))\n",
        "sns.boxplot(x=df['Amount'], color='yellow')  # Set the color to yellow\n",
        "\n",
        "plt.title(\"Amazon Sales Anomalies\")\n",
        "plt.xlabel(\"Sales Amount\")\n",
        "\n",
        "# Show the plot\n",
        "plt.show()"
      ],
      "metadata": {
        "id": "bnJufy3PZaIS"
      },
      "execution_count": null,
      "outputs": []
    },
    {
      "cell_type": "markdown",
      "source": [
        "Key Insights Visualization"
      ],
      "metadata": {
        "id": "hrL9kjDiaaae"
      }
    },
    {
      "cell_type": "markdown",
      "source": [
        "**SIZE**"
      ],
      "metadata": {
        "id": "lyT2R__sevXC"
      }
    },
    {
      "cell_type": "code",
      "source": [
        "ax=sns.countplot(x='Size' ,data=df)\n",
        "\n",
        "for bars in ax.containers:\n",
        "    ax.bar_label(bars)"
      ],
      "metadata": {
        "id": "JB0e0eNleo1M"
      },
      "execution_count": null,
      "outputs": []
    },
    {
      "cell_type": "markdown",
      "source": [
        "Note: From above Graph you can see that most of the people buys M-Size"
      ],
      "metadata": {
        "id": "LgdvsrOCe542"
      }
    },
    {
      "cell_type": "markdown",
      "source": [
        "Groupby"
      ],
      "metadata": {
        "id": "1SDgS65te7eM"
      }
    },
    {
      "cell_type": "code",
      "source": [
        "df.groupby(['Size'], as_index=False)['Qty'].sum().sort_values(by='Qty',ascending=False)"
      ],
      "metadata": {
        "id": "e4_ErfIfe92B"
      },
      "execution_count": null,
      "outputs": []
    },
    {
      "cell_type": "code",
      "source": [
        "S_Qty=df.groupby(['Size'],as_index=False)['Qty'].sum().sort_values(by='Qty',ascending=False)\n",
        "\n",
        "sns.barplot(x='Size',y='Qty',data=S_Qty)"
      ],
      "metadata": {
        "id": "94KWSIJBfHv3"
      },
      "execution_count": null,
      "outputs": []
    },
    {
      "cell_type": "markdown",
      "source": [
        "Courirer Status"
      ],
      "metadata": {
        "id": "D_J9cn6Mgik5"
      }
    },
    {
      "cell_type": "code",
      "source": [
        "sns.countplot(data=df, x='Courier Status',hue= 'Status')"
      ],
      "metadata": {
        "id": "yNL_DOp_gkrb"
      },
      "execution_count": null,
      "outputs": []
    },
    {
      "cell_type": "code",
      "source": [
        "plt.figure(figsize=(10,5))\n",
        "\n",
        "ax=sns.countplot(data=df, x='Courier Status',hue= 'Status')\n",
        "\n",
        "plt.show()"
      ],
      "metadata": {
        "id": "uFcFGiU7hpJz"
      },
      "execution_count": null,
      "outputs": []
    },
    {
      "cell_type": "markdown",
      "source": [
        "[link text](https://)Note: From above Graph the majority of the orders are shipped through the courier"
      ],
      "metadata": {
        "id": "V3TYg2LfiJyz"
      }
    },
    {
      "cell_type": "code",
      "source": [
        "#histogram\n",
        "df['Size'].hist()"
      ],
      "metadata": {
        "id": "gnaV98mciIN5"
      },
      "execution_count": null,
      "outputs": []
    },
    {
      "cell_type": "code",
      "source": [
        "df['Category'] = df['Category'].astype(str)\n",
        "column_data = df['Category']\n",
        "plt.figure(figsize=(10, 5))\n",
        "plt.hist(column_data, bins=30, edgecolor='black')\n",
        "plt.xticks(rotation=90)\n",
        "plt.show()"
      ],
      "metadata": {
        "id": "kNN3gk0Birfp"
      },
      "execution_count": null,
      "outputs": []
    },
    {
      "cell_type": "markdown",
      "source": [
        "Note: From above Graph you can see that most of the buyers are T-shirt"
      ],
      "metadata": {
        "id": "Sa53OBFxkzhv"
      }
    },
    {
      "cell_type": "markdown",
      "source": [
        "**B2B**"
      ],
      "metadata": {
        "id": "5PahYbWYk4a8"
      }
    },
    {
      "cell_type": "code",
      "source": [
        "# Checking B2B Data  by using pie chart\n",
        "B2B_Check = df['B2B'].value_counts()\n",
        "\n",
        "#  Plot the pie chart\n",
        "plt.pie(B2B_Check, labels=B2B_Check.index, autopct='%1.1f%%')\n",
        "#plt.axis('equal')\n",
        "plt.show()"
      ],
      "metadata": {
        "id": "GjF_eVDIlR-8"
      },
      "execution_count": null,
      "outputs": []
    },
    {
      "cell_type": "markdown",
      "source": [
        "Note : From above chart we can see that maximum i.e. 99.3% of buyers are retailers and 0.7% are B2B buyers"
      ],
      "metadata": {
        "id": "5TGmXhykNg0D"
      }
    },
    {
      "cell_type": "code",
      "source": [
        "#  Prepare data for pie chart\n",
        "a1 = df['Fulfilment'].value_counts()\n",
        "\n",
        "# Step 4: Plot the pie chart\n",
        "fig, ax = plt.subplots()\n",
        "\n",
        "ax.pie(a1, labels=a1.index, autopct='%1.1f%%', radius=0.7, wedgeprops=dict(width=0.6))\n",
        "ax.set(aspect=\"equal\")\n",
        "\n",
        "plt.show()"
      ],
      "metadata": {
        "id": "VQElaae2N4Zr"
      },
      "execution_count": null,
      "outputs": []
    },
    {
      "cell_type": "markdown",
      "source": [
        "scatter plot"
      ],
      "metadata": {
        "id": "nNpRxHd1PpdM"
      }
    },
    {
      "cell_type": "code",
      "source": [
        "# Prepare data for scatter plot\n",
        "x_data = df['Category']\n",
        "y_data = df['Size']\n",
        "\n",
        "# Plot the scatter plot\n",
        "plt.scatter(x_data, y_data,color=\"red\")\n",
        "plt.xlabel('Category ')\n",
        "plt.ylabel('Size')\n",
        "plt.title('Scatter Plot')\n",
        "plt.show()\n"
      ],
      "metadata": {
        "id": "opb1IgCBPuoo"
      },
      "execution_count": null,
      "outputs": []
    },
    {
      "cell_type": "code",
      "source": [
        "# Plot count of cities by state\n",
        "plt.figure(figsize=(12, 6))\n",
        "sns.countplot(data=df, x='ship-state')\n",
        "plt.xlabel('ship-state')\n",
        "plt.ylabel('count')\n",
        "plt.title('Distribution of State')\n",
        "plt.xticks(rotation=90)\n",
        "plt.show()"
      ],
      "metadata": {
        "id": "dTcKLxVYR3fx"
      },
      "execution_count": null,
      "outputs": []
    },
    {
      "cell_type": "code",
      "source": [
        "# top_10_States\n",
        "top_10_state = df['ship-state'].value_counts().head(10)\n",
        "# Plot count of cities by state\n",
        "plt.figure(figsize=(12, 6))\n",
        "sns.countplot(data=df[df['ship-state'].isin(top_10_state.index)], x='ship-state')\n",
        "plt.xlabel('ship-state')\n",
        "plt.ylabel('count')\n",
        "plt.title('Distribution of  State')\n",
        "plt.xticks(rotation=45)\n",
        "plt.show()"
      ],
      "metadata": {
        "id": "ZIBkmXk5S_gT"
      },
      "execution_count": null,
      "outputs": []
    },
    {
      "cell_type": "markdown",
      "source": [
        "Note: From above Graph you can see that most of the buyers are Maharashtra state\n"
      ],
      "metadata": {
        "id": "r1DPwbbaUqBc"
      }
    },
    {
      "cell_type": "markdown",
      "source": [
        "Conclusion-"
      ],
      "metadata": {
        "id": "rP-2gXqXUtED"
      }
    },
    {
      "cell_type": "markdown",
      "source": [
        "**The data analysis reveals that the business has a significant customer base in Maharashtra state, mainly serves retailers, fulfills orders through Amazon, experiences high demand for T-shirts, and sees M-Size as the preferred choice among buyers.**"
      ],
      "metadata": {
        "id": "kVIRoW8YUxR1"
      }
    }
  ]
}